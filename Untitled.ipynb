{
 "cells": [
  {
   "cell_type": "code",
   "execution_count": 1,
   "id": "e2f27ff4-ccd8-44dd-9bed-c573fac790a7",
   "metadata": {},
   "outputs": [
    {
     "name": "stdout",
     "output_type": "stream",
     "text": [
      "The number of words in the file myfile.txt are : 27\n"
     ]
    }
   ],
   "source": [
    "'''\n",
    "Developed by: Shaik Shoaib Nawaz.\n",
    "Reference Number:- 22005600.\n",
    "'''\n",
    "count =0\n",
    "with open('myfile.txt','r') as test:\n",
    "    for i in test:\n",
    "        word = i.split()\n",
    "        count+=len(word)\n",
    "print('The number of words in the file myfile.txt are :',count)"
   ]
  },
  {
   "cell_type": "code",
   "execution_count": null,
   "id": "302cd814-2f97-4862-b21b-dbf2a4c9b851",
   "metadata": {},
   "outputs": [],
   "source": []
  }
 ],
 "metadata": {
  "kernelspec": {
   "display_name": "Python 3 (ipykernel)",
   "language": "python",
   "name": "python3"
  },
  "language_info": {
   "codemirror_mode": {
    "name": "ipython",
    "version": 3
   },
   "file_extension": ".py",
   "mimetype": "text/x-python",
   "name": "python",
   "nbconvert_exporter": "python",
   "pygments_lexer": "ipython3",
   "version": "3.10.4"
  }
 },
 "nbformat": 4,
 "nbformat_minor": 5
}
